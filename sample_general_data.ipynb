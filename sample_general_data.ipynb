{
 "cells": [
  {
   "cell_type": "code",
   "execution_count": 18,
   "metadata": {},
   "outputs": [
    {
     "name": "stdout",
     "output_type": "stream",
     "text": [
      "<class 'pandas.core.frame.DataFrame'>\n",
      "RangeIndex: 8172 entries, 0 to 8171\n",
      "Data columns (total 4 columns):\n",
      " #   Column       Non-Null Count  Dtype \n",
      "---  ------       --------------  ----- \n",
      " 0   instruction  8172 non-null   object\n",
      " 1   input        8172 non-null   object\n",
      " 2   output       8172 non-null   object\n",
      " 3   query        5855 non-null   object\n",
      "dtypes: object(4)\n",
      "memory usage: 255.5+ KB\n"
     ]
    },
    {
     "data": {
      "text/html": [
       "<div>\n",
       "<style scoped>\n",
       "    .dataframe tbody tr th:only-of-type {\n",
       "        vertical-align: middle;\n",
       "    }\n",
       "\n",
       "    .dataframe tbody tr th {\n",
       "        vertical-align: top;\n",
       "    }\n",
       "\n",
       "    .dataframe thead th {\n",
       "        text-align: right;\n",
       "    }\n",
       "</style>\n",
       "<table border=\"1\" class=\"dataframe\">\n",
       "  <thead>\n",
       "    <tr style=\"text-align: right;\">\n",
       "      <th></th>\n",
       "      <th>instruction</th>\n",
       "      <th>input</th>\n",
       "      <th>output</th>\n",
       "      <th>query</th>\n",
       "    </tr>\n",
       "  </thead>\n",
       "  <tbody>\n",
       "    <tr>\n",
       "      <th>0</th>\n",
       "      <td></td>\n",
       "      <td>近日，有一位周也的粉丝发文称张婧仪用了双眼皮贴，由此引发双方粉丝骂战，张婧仪粉丝回怼称要是张...</td>\n",
       "      <td>近日，张婧仪的一举动引发了粉丝们的热议，网友晒出了她使用双眼皮贴的照片，这一举动引发了粉丝们...</td>\n",
       "      <td>张婧仪拍戏前无所事事地发呆</td>\n",
       "    </tr>\n",
       "    <tr>\n",
       "      <th>1</th>\n",
       "      <td></td>\n",
       "      <td>2023年7月1日至31日，中国内地23省新增报告491例猴痘确诊病例，其中广东报告115例...</td>\n",
       "      <td>2023年7月，中国内地共新增报告491例猴痘确诊病例，分布于23个省份。其中广东、北京、四...</td>\n",
       "      <td>7月中国内地新增491例猴痘病例</td>\n",
       "    </tr>\n",
       "    <tr>\n",
       "      <th>2</th>\n",
       "      <td></td>\n",
       "      <td>VistaGen Therapeutics公司的股价在8月7日的美东时间大幅上涨，盘前最高涨...</td>\n",
       "      <td>美东时间7日，VistaGen Therapeutics股价飙升，盘前一度涨近2400%，开...</td>\n",
       "      <td>“社恐药”来了？这家美企股价一度暴涨近2400%</td>\n",
       "    </tr>\n",
       "    <tr>\n",
       "      <th>3</th>\n",
       "      <td></td>\n",
       "      <td>有人在视频里谴责此事，重庆市丰都县相关方迅速进行了调查。有人拍视频愤怒地叫着烧掉日本邪神 近...</td>\n",
       "      <td>近日,重庆市一座寺庙的供奉日本邪神的情况在网上曝光，引发了广泛的关注和争议。\\n据报道，这座...</td>\n",
       "      <td>重庆一寺庙疑供奉日本邪神</td>\n",
       "    </tr>\n",
       "    <tr>\n",
       "      <th>4</th>\n",
       "      <td></td>\n",
       "      <td>7月11日，张若昀与唐艺昕最新杂志照曝光，引发网友热议。在这组照片中，两人展现出了甜蜜大胆的...</td>\n",
       "      <td>7月11日，张若昀与唐艺昕最新杂志照曝光，两人甜蜜互动引发热议。\\n在照片中，两人展现出了甜...</td>\n",
       "      <td>张若昀唐艺昕合体拍杂志 问答环节缺少默契</td>\n",
       "    </tr>\n",
       "  </tbody>\n",
       "</table>\n",
       "</div>"
      ],
      "text/plain": [
       "  instruction                                              input  \\\n",
       "0              近日，有一位周也的粉丝发文称张婧仪用了双眼皮贴，由此引发双方粉丝骂战，张婧仪粉丝回怼称要是张...   \n",
       "1              2023年7月1日至31日，中国内地23省新增报告491例猴痘确诊病例，其中广东报告115例...   \n",
       "2              VistaGen Therapeutics公司的股价在8月7日的美东时间大幅上涨，盘前最高涨...   \n",
       "3              有人在视频里谴责此事，重庆市丰都县相关方迅速进行了调查。有人拍视频愤怒地叫着烧掉日本邪神 近...   \n",
       "4              7月11日，张若昀与唐艺昕最新杂志照曝光，引发网友热议。在这组照片中，两人展现出了甜蜜大胆的...   \n",
       "\n",
       "                                              output                     query  \n",
       "0  近日，张婧仪的一举动引发了粉丝们的热议，网友晒出了她使用双眼皮贴的照片，这一举动引发了粉丝们...             张婧仪拍戏前无所事事地发呆  \n",
       "1  2023年7月，中国内地共新增报告491例猴痘确诊病例，分布于23个省份。其中广东、北京、四...          7月中国内地新增491例猴痘病例  \n",
       "2  美东时间7日，VistaGen Therapeutics股价飙升，盘前一度涨近2400%，开...  “社恐药”来了？这家美企股价一度暴涨近2400%  \n",
       "3  近日,重庆市一座寺庙的供奉日本邪神的情况在网上曝光，引发了广泛的关注和争议。\\n据报道，这座...              重庆一寺庙疑供奉日本邪神  \n",
       "4  7月11日，张若昀与唐艺昕最新杂志照曝光，两人甜蜜互动引发热议。\\n在照片中，两人展现出了甜...      张若昀唐艺昕合体拍杂志 问答环节缺少默契  "
      ]
     },
     "execution_count": 18,
     "metadata": {},
     "output_type": "execute_result"
    }
   ],
   "source": [
    "import pandas as pd\n",
    "\n",
    "data_file = \"data/hot_finetune_data/train/with_aug.jsonl\"\n",
    "df = pd.read_json(data_file, lines=True)\n",
    "df.info()\n",
    "df.head()"
   ]
  },
  {
   "cell_type": "code",
   "execution_count": 19,
   "metadata": {},
   "outputs": [],
   "source": [
    "# df_aug = pd.read_json('data/hot_finetune_data/train/aug_data.json', lines=True)\n",
    "# df_aug.info()\n",
    "# df_aug.head()"
   ]
  },
  {
   "cell_type": "code",
   "execution_count": 20,
   "metadata": {},
   "outputs": [],
   "source": [
    "# df_with_aug = pd.concat([df, df_aug], axis=0)\n",
    "# df_with_aug.info()\n",
    "# df_with_aug = df_with_aug.sample(frac=1, replace=False, random_state=0)\n",
    "# df_with_aug.head()\n",
    "# df_with_aug.to_json('data/hot_finetune_data/train/with_aug.jsonl', lines=True, orient='records', force_ascii=False)"
   ]
  },
  {
   "cell_type": "code",
   "execution_count": null,
   "metadata": {},
   "outputs": [],
   "source": []
  },
  {
   "cell_type": "code",
   "execution_count": 21,
   "metadata": {},
   "outputs": [],
   "source": [
    "data_file = \"../train_2M_CN_sample200k.json\"\n",
    "df_extral = pd.read_json(data_file)"
   ]
  },
  {
   "cell_type": "code",
   "execution_count": 22,
   "metadata": {},
   "outputs": [
    {
     "name": "stdout",
     "output_type": "stream",
     "text": [
      "<class 'pandas.core.frame.DataFrame'>\n",
      "Index: 40860 entries, 54458 to 134261\n",
      "Data columns (total 3 columns):\n",
      " #   Column       Non-Null Count  Dtype \n",
      "---  ------       --------------  ----- \n",
      " 0   instruction  40860 non-null  object\n",
      " 1   input        40860 non-null  object\n",
      " 2   output       40860 non-null  object\n",
      "dtypes: object(3)\n",
      "memory usage: 1.2+ MB\n"
     ]
    },
    {
     "data": {
      "text/html": [
       "<div>\n",
       "<style scoped>\n",
       "    .dataframe tbody tr th:only-of-type {\n",
       "        vertical-align: middle;\n",
       "    }\n",
       "\n",
       "    .dataframe tbody tr th {\n",
       "        vertical-align: top;\n",
       "    }\n",
       "\n",
       "    .dataframe thead th {\n",
       "        text-align: right;\n",
       "    }\n",
       "</style>\n",
       "<table border=\"1\" class=\"dataframe\">\n",
       "  <thead>\n",
       "    <tr style=\"text-align: right;\">\n",
       "      <th></th>\n",
       "      <th>instruction</th>\n",
       "      <th>input</th>\n",
       "      <th>output</th>\n",
       "    </tr>\n",
       "  </thead>\n",
       "  <tbody>\n",
       "    <tr>\n",
       "      <th>54458</th>\n",
       "      <td>提供几个产品概念，让您为该产品集思广益，想出更多的应用场景。\\n钢琴手套</td>\n",
       "      <td></td>\n",
       "      <td>产品概念1： 舞蹈手套 - 这种手套可以在跳舞时使用，以使舞者可以将音乐变成动作。 手套上的...</td>\n",
       "    </tr>\n",
       "    <tr>\n",
       "      <th>118646</th>\n",
       "      <td>将以下这段文本中的关键字提取出来：\"人工智能正在改变未来的工作岗位需求。\"\\n</td>\n",
       "      <td></td>\n",
       "      <td>关键字：人工智能，改变，未来，工作岗位需求。\\n解释：这句话讨论了人工智能对未来的工作岗位需...</td>\n",
       "    </tr>\n",
       "    <tr>\n",
       "      <th>57401</th>\n",
       "      <td>针对给定主题，写一个200字到300字的文章。\\n减轻工作压力的方法</td>\n",
       "      <td></td>\n",
       "      <td>工作压力是现代人普遍面临的问题，它可能影响到我们的身体健康、职业发展和家庭生活。因此，减轻工...</td>\n",
       "    </tr>\n",
       "    <tr>\n",
       "      <th>115324</th>\n",
       "      <td>给定一个数字，生成对应的文本形式。\\n123</td>\n",
       "      <td></td>\n",
       "      <td>123可以生成为“一百二十三”或者“一二三”，具体转换取决于所要求的语言和转换的应用场景。\\...</td>\n",
       "    </tr>\n",
       "    <tr>\n",
       "      <th>71684</th>\n",
       "      <td>根据给定的文本，摘要出最重要的关键词和句子。\\n今天是个好日子。太阳在天空中明亮地照耀着，鸟...</td>\n",
       "      <td></td>\n",
       "      <td>关键词：好日子、太阳、天空、照耀、鸟儿、树枝、唱歌、美好。\\n摘要句子：“今天是个好日子”。...</td>\n",
       "    </tr>\n",
       "  </tbody>\n",
       "</table>\n",
       "</div>"
      ],
      "text/plain": [
       "                                              instruction input  \\\n",
       "54458                提供几个产品概念，让您为该产品集思广益，想出更多的应用场景。\\n钢琴手套         \n",
       "118646            将以下这段文本中的关键字提取出来：\"人工智能正在改变未来的工作岗位需求。\"\\n         \n",
       "57401                  针对给定主题，写一个200字到300字的文章。\\n减轻工作压力的方法         \n",
       "115324                             给定一个数字，生成对应的文本形式。\\n123         \n",
       "71684   根据给定的文本，摘要出最重要的关键词和句子。\\n今天是个好日子。太阳在天空中明亮地照耀着，鸟...         \n",
       "\n",
       "                                                   output  \n",
       "54458   产品概念1： 舞蹈手套 - 这种手套可以在跳舞时使用，以使舞者可以将音乐变成动作。 手套上的...  \n",
       "118646  关键字：人工智能，改变，未来，工作岗位需求。\\n解释：这句话讨论了人工智能对未来的工作岗位需...  \n",
       "57401   工作压力是现代人普遍面临的问题，它可能影响到我们的身体健康、职业发展和家庭生活。因此，减轻工...  \n",
       "115324  123可以生成为“一百二十三”或者“一二三”，具体转换取决于所要求的语言和转换的应用场景。\\...  \n",
       "71684   关键词：好日子、太阳、天空、照耀、鸟儿、树枝、唱歌、美好。\\n摘要句子：“今天是个好日子”。...  "
      ]
     },
     "execution_count": 22,
     "metadata": {},
     "output_type": "execute_result"
    }
   ],
   "source": [
    "ratio = 5\n",
    "\n",
    "df_sample = df_extral.sample(int(df.shape[0]*ratio), replace=False, random_state=0)\n",
    "df_sample.info()\n",
    "df_sample.head()"
   ]
  },
  {
   "cell_type": "code",
   "execution_count": 23,
   "metadata": {},
   "outputs": [
    {
     "data": {
      "text/plain": [
       "True"
      ]
     },
     "execution_count": 23,
     "metadata": {},
     "output_type": "execute_result"
    }
   ],
   "source": [
    "all(df_sample['input']==\"\")"
   ]
  },
  {
   "cell_type": "code",
   "execution_count": 24,
   "metadata": {},
   "outputs": [
    {
     "name": "stdout",
     "output_type": "stream",
     "text": [
      "<class 'pandas.core.frame.DataFrame'>\n",
      "Index: 49032 entries, 178073 to 2732\n",
      "Data columns (total 4 columns):\n",
      " #   Column       Non-Null Count  Dtype \n",
      "---  ------       --------------  ----- \n",
      " 0   instruction  49032 non-null  object\n",
      " 1   input        49032 non-null  object\n",
      " 2   output       49032 non-null  object\n",
      " 3   query        5855 non-null   object\n",
      "dtypes: object(4)\n",
      "memory usage: 1.9+ MB\n"
     ]
    },
    {
     "data": {
      "text/html": [
       "<div>\n",
       "<style scoped>\n",
       "    .dataframe tbody tr th:only-of-type {\n",
       "        vertical-align: middle;\n",
       "    }\n",
       "\n",
       "    .dataframe tbody tr th {\n",
       "        vertical-align: top;\n",
       "    }\n",
       "\n",
       "    .dataframe thead th {\n",
       "        text-align: right;\n",
       "    }\n",
       "</style>\n",
       "<table border=\"1\" class=\"dataframe\">\n",
       "  <thead>\n",
       "    <tr style=\"text-align: right;\">\n",
       "      <th></th>\n",
       "      <th>instruction</th>\n",
       "      <th>input</th>\n",
       "      <th>output</th>\n",
       "      <th>query</th>\n",
       "    </tr>\n",
       "  </thead>\n",
       "  <tbody>\n",
       "    <tr>\n",
       "      <th>178073</th>\n",
       "      <td>将提供的短文翻译成西班牙语。\\n卡尔冯·林内家族是奥地利一个历史悠久的贵族家族。</td>\n",
       "      <td></td>\n",
       "      <td>La familia von Linné de Austria es una antigua...</td>\n",
       "      <td>NaN</td>\n",
       "    </tr>\n",
       "    <tr>\n",
       "      <th>24208</th>\n",
       "      <td>给出如何使用Python编写一个简单的Web服务器的步骤。\\n</td>\n",
       "      <td></td>\n",
       "      <td>使用Python编写一个简单的Web服务器是非常简单的，可以通过以下步骤进行操作：\\n1. ...</td>\n",
       "      <td>NaN</td>\n",
       "    </tr>\n",
       "    <tr>\n",
       "      <th>187236</th>\n",
       "      <td>给出网络安全漏洞的定义并提供一个例子。\\n</td>\n",
       "      <td></td>\n",
       "      <td>网络安全漏洞是指有意或无意地留下未经授权访问计算机系统、网络或应用程序的漏洞。网络安全漏洞可...</td>\n",
       "      <td>NaN</td>\n",
       "    </tr>\n",
       "    <tr>\n",
       "      <th>7039</th>\n",
       "      <td>为下一次团队会议准备一个提纲。\\n</td>\n",
       "      <td></td>\n",
       "      <td>当准备下一次团队会议提纲时，可以根据以下步骤进行：\\n1. 回顾上次会议\\n- 会议时间和日...</td>\n",
       "      <td>NaN</td>\n",
       "    </tr>\n",
       "    <tr>\n",
       "      <th>85258</th>\n",
       "      <td>将以下短句翻译成法语：我爱你。\\n</td>\n",
       "      <td></td>\n",
       "      <td>Je t'aime.</td>\n",
       "      <td>NaN</td>\n",
       "    </tr>\n",
       "  </tbody>\n",
       "</table>\n",
       "</div>"
      ],
      "text/plain": [
       "                                     instruction input  \\\n",
       "178073  将提供的短文翻译成西班牙语。\\n卡尔冯·林内家族是奥地利一个历史悠久的贵族家族。         \n",
       "24208            给出如何使用Python编写一个简单的Web服务器的步骤。\\n         \n",
       "187236                     给出网络安全漏洞的定义并提供一个例子。\\n         \n",
       "7039                           为下一次团队会议准备一个提纲。\\n         \n",
       "85258                          将以下短句翻译成法语：我爱你。\\n         \n",
       "\n",
       "                                                   output query  \n",
       "178073  La familia von Linné de Austria es una antigua...   NaN  \n",
       "24208   使用Python编写一个简单的Web服务器是非常简单的，可以通过以下步骤进行操作：\\n1. ...   NaN  \n",
       "187236  网络安全漏洞是指有意或无意地留下未经授权访问计算机系统、网络或应用程序的漏洞。网络安全漏洞可...   NaN  \n",
       "7039    当准备下一次团队会议提纲时，可以根据以下步骤进行：\\n1. 回顾上次会议\\n- 会议时间和日...   NaN  \n",
       "85258                                          Je t'aime.   NaN  "
      ]
     },
     "execution_count": 24,
     "metadata": {},
     "output_type": "execute_result"
    }
   ],
   "source": [
    "df_mixed = pd.concat([df, df_sample], axis=0)\n",
    "df_mixed = df_mixed.sample(frac=1, replace=False, random_state=0)\n",
    "df_mixed.info()\n",
    "df_mixed.head()"
   ]
  },
  {
   "cell_type": "code",
   "execution_count": 25,
   "metadata": {},
   "outputs": [],
   "source": [
    "df_mixed.to_json(f\"./with_aug_mixed_ratio={ratio}.jsonl\", lines=True, orient=\"records\", force_ascii=False)"
   ]
  },
  {
   "cell_type": "code",
   "execution_count": null,
   "metadata": {},
   "outputs": [],
   "source": []
  },
  {
   "cell_type": "code",
   "execution_count": 60,
   "metadata": {},
   "outputs": [],
   "source": [
    "from train_llms.ngram import get_cn_char_unigram\n",
    "from datasets import concatenate_datasets, load_dataset\n",
    "\n",
    "PROMPT_TEMPLATE = (\n",
    "    \"Below is an instruction that describes a task. \"\n",
    "    \"Write a response that appropriately completes the request.\\n\\n\"\n",
    "    \"### Instruction:\\n{instruction}\\n\\n### Response: \"\n",
    ")\n",
    "\n",
    "\n",
    "def prompt_transfer(instruction, input, output):\n",
    "    target_length = len(get_cn_char_unigram(output))\n",
    "    tmp = round(target_length / 50)\n",
    "    target_length = tmp * 50\n",
    "    if not instruction:\n",
    "        instruction = \"给定文本：\\n\" + input.strip() + \"\\n生成\" + str(target_length) + \"字左右视频文案。\"\n",
    "    prompt = PROMPT_TEMPLATE.format_map({\"instruction\": instruction})\n",
    "    return prompt\n",
    "\n",
    "def tokenization(examples):\n",
    "    sources = []\n",
    "    targets = []\n",
    "    prompt = PROMPT_TEMPLATE\n",
    "    for instruction, input, output in zip(examples[\"instruction\"], examples[\"input\"], examples[\"output\"]):\n",
    "        # if input is not None and input !=\"\":\n",
    "        #     instruction = instruction+'\\n'+input\n",
    "        # source = prompt.format_map({'instruction':instruction})\n",
    "        source = prompt_transfer(instruction, input, output)\n",
    "        target = f\"{output}\"\n",
    "\n",
    "        sources.append(source)\n",
    "        targets.append(target)\n",
    "\n",
    "    results = {\"input\": sources, \"labels\": targets}\n",
    "    return results\n",
    "\n",
    "file = \"mixed_ratio=1.jsonl\"\n",
    "raw_dataset = load_dataset(\"json\", data_files=file)\n",
    "tokenization_func = tokenization\n",
    "dataset = raw_dataset.map(\n",
    "    tokenization_func,\n",
    "    batched=True,\n",
    "    # num_proc=1,\n",
    "    remove_columns=[\"instruction\", \"input\", \"output\"],\n",
    "    keep_in_memory=False,\n",
    "    desc=\"preprocessing on dataset\",\n",
    ")"
   ]
  },
  {
   "cell_type": "code",
   "execution_count": 61,
   "metadata": {},
   "outputs": [
    {
     "name": "stdout",
     "output_type": "stream",
     "text": [
      "Below is an instruction that describes a task. Write a response that appropriately completes the request.\n",
      "\n",
      "### Instruction:\n",
      "将以下段落进行摘要。\n",
      "这是纽约大学。成立于1831年，作为国立研究型大学，是研究生院、艺术文学学院、牙科学院、法学院、医学院、护理学院、工程学院、社会工作学院和公共服务学院的所在地。\n",
      "\n",
      "### Response: \n",
      "纽约大学建立于1831年，是一所国立研究型大学。该大学包括研究生院、艺术文学学院、牙科学院、法学院、医学院、护理学院、工程学院、社会工作学院和公共服务学院。\n",
      "-----------------------------------------------------------------------\n",
      "Below is an instruction that describes a task. Write a response that appropriately completes the request.\n",
      "\n",
      "### Instruction:\n",
      "给定文本：\n",
      "据新疆文旅投诉公众号，今年4月中旬以来，新疆发生多起旅行社恶意甩团事件，造成乌鲁木齐、昌吉、吐鲁番等地部分内地游客滞留。为加快案件的办理，严厉打击旅游市场不合理低价游、未经许可经营旅行社业务等行业乱象，新疆自治区文化和旅游厅文化市场综合执法监督局牵头开展旅游市场集中办案工作，由乌鲁木齐市文化和旅游局文化市场综合行政执法队承办，同时抽调吐鲁番、昌吉、阿勒泰、塔城、伊犁、哈密、喀什等地州业务骨干展开调查。经调查，甩团案件均为内地旅行社以低价招徕、组织赴疆游客，熊乐国际旅行社有限公司、新疆骏骋国际旅行社有限公司因游客购物未达预期，在行程中拒绝履行合同，授意导游或全陪甩团造成，共涉及上海市、杭州市、温州市三地游客共270人。4月15日，熊乐国际旅行社上海外联部负责人文某通过微信群等各种渠道发布全景新疆17日游宣传广告，韦某等人通过朋友互相介绍在上海、杭州组织招徕85人报名参加该行程。出发前，韦某作为游客代表与新疆骏骋国际旅行社有限公司签订了旅游合同，抵达新疆后，熊乐国际旅行社负责人徐丹丹安排他人通过微信与韦某签订了第2份合同，合同乙方旅行社为熊乐国际旅行社。徐丹丹以喀纳斯天气恶劣为由要求每名游客补交800元，遭到游客拒绝，旅行团被甩。2022年，该旅行社因未与旅游者签订书面旅游合同，被海口市综合行政执法局罚款5万元，该社负责人徐丹丹被罚款4000元。该旅行社多次存在恶意甩团行为，已被海口市停止了海南省旅游电子行程系统的使用，公司已被列入经营异常名录。据了解，5月中旬以后，熊乐国际旅行社有限公司、新疆骏骋国际旅行社有限公司还计划使用涉案相同模式接待几十个团2000馀名游客前来新疆旅游，其中涉及上海、浙江、江苏、安徽4省市7市。由于上述2家公司涉案金额巨大、牵涉游客人数众多，已经涉嫌构成非法经营罪。本次甩团案件，涉案人员众多，涉案金额较大。目前，案件正在进一步办理中。\n",
      "生成300字左右视频文案。\n",
      "\n",
      "### Response: \n",
      "向全国数百名游客“甩团”，让他们滞留新疆，这是何等的恶意行为！新疆发生多起恶意“甩团”事件，令人痛心。这一次，有270位游客被牵涉其中。\n",
      "据新疆文旅投诉公众号透露，4月中旬以来，新疆发生多起旅行社恶意甩团事件，共涉及上海市、杭州市、温州市三地游客共270人。熊乐国际旅行社和新疆骏骋国际旅行社因为游客购物未达预期，在行程中拒绝履行合同，授意导游或全陪甩团造成。此前，熊乐国际旅行社还曾遭到海口市的罚款。此次事件牵涉人员众多，涉案金额较大，目前已涉嫌构成非法经营罪。\n",
      "大家出游时务必要擦亮眼睛，选择正规旅行社。我们希望看到更多的人旅游，但也要警惕旅行社的不良行为。你有没有遇到过旅行社恶意“甩团”的经历？留言与我们分享吧！\n",
      "-----------------------------------------------------------------------\n",
      "Below is an instruction that describes a task. Write a response that appropriately completes the request.\n",
      "\n",
      "### Instruction:\n",
      "根据以下代码，请解释None的作用。def my_function(x): \n",
      " if x > 0: \n",
      "  return x \n",
      " print(my_function(3))\n",
      "None的作用是未显示返回任何值，因为print()语句在函数本身中进行了调用。\n",
      "\n",
      "### Response: \n",
      "在这个函数中，如果输入的参数x是一个正数（大于零），则该函数使用return语句将x作为函数的返回值返回。但是，如果x不是一个正数，那么该函数并不显式地返回任何值。相反，它会执行一个名为print()的语句，打印出该函数的递归调用，并在这个打印语句后隐式地返回None。\n",
      "这就是为什么在这个代码示例中，如果该函数被调用并传入一个正数参数，它将返回参数值。但如果该函数被调用并传入一个负数参数，则它将打印该函数的递归调用，但不会返回任何值。\n",
      "在我们的例子中，我们调用函数并传入参数3。因为3是一个正数，该函数将返回3，并将其打印到屏幕上。但是，在打印语句之后，该函数隐式地返回了None。因此，当我们将函数调用传递给print语句时，该函数的返回值打印为None。\n",
      "总之，None是Python中的一个特殊类型，表示空值或缺少值。在本例中，因为函数没有显式返回任何值，它隐式地返回了None，表示函数在处理该参数时没有返回任何有意义的值。\n",
      "-----------------------------------------------------------------------\n",
      "Below is an instruction that describes a task. Write a response that appropriately completes the request.\n",
      "\n",
      "### Instruction:\n",
      "查询给定城市的当前天气情况，包括温度、湿度、天气状况（例如晴天、多云、雨天等）。\n",
      "城市：北京\n",
      "\n",
      "### Response: \n",
      "北京是中国的首都，位于华北平原，在东经115.7度、北纬39.6度的地理坐标上。根据北京市气象局的数据，以下是北京当前的天气情况：\n",
      "- 温度：当前北京的气温为21摄氏度。\n",
      "- 湿度：当前北京的湿度为57%。\n",
      "- 天气状况：目前北京的天气状况为“晴天”。 \n",
      "总之，当前北京的天气情况较为舒适，适合出门活动。\n",
      "-----------------------------------------------------------------------\n",
      "Below is an instruction that describes a task. Write a response that appropriately completes the request.\n",
      "\n",
      "### Instruction:\n",
      "给定文本：\n",
      "莲花楼热度破万，成为今年暑期档爱奇艺继长风渡后的又一部万人追捧的剧集！开播前基本没有宣传，却靠观众口碑引爆热度，真的太惊艳了！这部剧集以其紧张刺激的剧情和精彩的表演赢得了观众的热烈追捧，每个案件都充满悬念和惊喜，让观众陷入其中无法自拔。莲花楼的成功不仅得益于精彩的剧情和高水平的制作团队，同时也离不开观众们的热情支持和广泛关注，这部剧集的成功也为爱奇艺平台再添佳绩！不可思议的数字，单集观看人数高达100万，两集同时在线160万，弹幕互动量超过2.5亿，这就是莲花楼的魅力！观众们对这部剧集的热情追捧真的太让人感动了！\n",
      "莲花楼是一部近期上映的古装武侠电影，由著名导演何平执导，汇聚了众多实力派演员，如赵文瑄、王强、吴越、陈都灵等。随着镜头的推移，各色人物纷纷登场。故事的主人公李莲花，由赵文瑄饰演，身着青衫，手握长剑，剑眉星目，颇具侠者风范。他的角色设定很有意思，一方面是江湖上的豪杰，另一方面又是家庭的顶梁柱，这种双重身份的设置让人物形象更加立体。在电影中，李莲花因为一桩旧案被卷入江湖纷争。各方势力纷纷涌动，暗流汹涌。在这险象环生的江湖中，李莲花凭借着智慧和勇气，化解了一次次危机。总体来说，莲花楼是一部值得一看的电影。同时，影片还通过李莲花的形象，让我们对侠者的精神有了更深刻的认识。\n",
      "藤萍 电视剧莲花楼正在热播,该剧由成毅、曾舜晞、肖顺尧、陈都灵等主演,融合了江湖、武侠、奇案等多种元素,日前在爱奇艺平台上的内容热度突破10000,成为今年该平台第三部热度破万的作品。据悉,该剧即将登陆央视一套。莲花楼改编自小说吉祥纹莲花楼,作者藤萍是土生土长的厦门女作家,她原名叶萍萍,现为中国作家协会会员,福建省作家协会主席团委员,职业是厦门市公安局出入境管理支队民警。很多武侠故事都是讲草根逆袭、成为武林盟主,藤萍笔下的李莲花反倒从门主退隐江湖、落入俗尘。她评价剧中李莲花的扮演者成毅对原着理解得非常透彻,他是一个很优秀、敬业的演员,角色演绎得很到位。\n",
      "近日,由郭虎、任海涛执导,成毅、曾舜晞、肖顺尧、陈都灵等主演的古装悬疑探案剧莲花楼开播,根据公开数据,该剧站内预约超过400万,开播后5小时站内弹幕量破2150万、18小时热度飙升至8500,登上站内热搜榜、电视剧榜、飙升榜等多榜单TOP1,并于开播2小时后即登顶猫眼热度日榜,首日更揽获全网172+热搜。从上层皇族、士大夫到下层平民他们的服饰造型、礼仪不仅具有内涵、特色鲜明,就算与现代社会相比,也不失时尚性,该剧不仅在国内在海外东南亚也非常火爆。此外该剧也可以说就是一个背锅侠,也有爆出人物化妆眼影、妆容等方面的问题,好在有曾明辉做整体的把控,将该剧拉回到新高度他真的是功不可没。\n",
      "最近莲花楼大结局也开始播出了,大结局一播出,莲花楼在平台上的数据和热度就已经破了万。破万是证明这部剧的真正火热程度,也足以证明了成毅的精湛演技。这部电视剧如果要是没有看过的话,那真的是太可惜了。毕竟它的制作万分的精良人物和演员都十分的尽职尽责。\n",
      "生成300字左右视频文案。\n",
      "\n",
      "### Response: \n",
      "在今年暑期档，爱奇艺平台上一部剧集引发了观众热烈追捧，热度突破万，成为又一档万众期待的剧集\n",
      "《莲花楼》没有任何宣传，凭借着观众口碑迅速引爆热度。剧集以紧张刺激的剧情和精彩表演赢得观众追捧，每个案件充满悬念和惊喜，让观众陷入其中。成功的背后得益于高水平制作团队和观众们的热情支持，成为爱奇艺平台又一佳绩！惊人的数据也证明了《莲花楼》的魅力，单集观看人数高达100万，同时在线人数达160万，弹幕互动量超过2.5亿。观众们对剧集的热情追捧令人感动\n",
      "这部令人惊艳的剧集《莲花楼》在短时间内引爆热潮，让观众们看得如痴如醉。它不仅展现了古装武侠的精彩，更通过主人公李莲花的形象传递了侠者精神。你们对这部剧有什么看法和评价呢？快来留言和我们分享吧！\n",
      "-----------------------------------------------------------------------\n"
     ]
    }
   ],
   "source": [
    "for i in range(5):\n",
    "    print(dataset['train'][i]['input'])\n",
    "    print(dataset['train'][i]['labels'])\n",
    "    print('-----------------------------------------------------------------------')"
   ]
  },
  {
   "cell_type": "code",
   "execution_count": 1,
   "metadata": {},
   "outputs": [],
   "source": [
    "from typing import Iterable\n",
    "\n",
    "l = list()\n",
    "t = tuple()\n",
    "d = dict()"
   ]
  },
  {
   "cell_type": "code",
   "execution_count": 5,
   "metadata": {},
   "outputs": [
    {
     "data": {
      "text/plain": [
       "False"
      ]
     },
     "execution_count": 5,
     "metadata": {},
     "output_type": "execute_result"
    }
   ],
   "source": [
    "isinstance(1, Iterable)"
   ]
  },
  {
   "cell_type": "code",
   "execution_count": null,
   "metadata": {},
   "outputs": [],
   "source": []
  }
 ],
 "metadata": {
  "kernelspec": {
   "display_name": "dev",
   "language": "python",
   "name": "python3"
  },
  "language_info": {
   "codemirror_mode": {
    "name": "ipython",
    "version": 3
   },
   "file_extension": ".py",
   "mimetype": "text/x-python",
   "name": "python",
   "nbconvert_exporter": "python",
   "pygments_lexer": "ipython3",
   "version": "3.11.2"
  },
  "orig_nbformat": 4,
  "vscode": {
   "interpreter": {
    "hash": "b86acde8f1383f86f3021849fe9adf6a3ab376df7b33a306f998570f99994f92"
   }
  }
 },
 "nbformat": 4,
 "nbformat_minor": 2
}
