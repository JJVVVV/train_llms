{
 "cells": [
  {
   "cell_type": "markdown",
   "metadata": {},
   "source": [
    "# load model"
   ]
  },
  {
   "cell_type": "code",
   "execution_count": 1,
   "metadata": {},
   "outputs": [],
   "source": [
    "%load_ext autoreload\n",
    "%autoreload 2"
   ]
  },
  {
   "cell_type": "code",
   "execution_count": 2,
   "metadata": {},
   "outputs": [
    {
     "name": "stderr",
     "output_type": "stream",
     "text": [
      "/usr/local/python3.11.2/lib/python3.11/site-packages/torchmetrics/utilities/imports.py:24: DeprecationWarning: distutils Version classes are deprecated. Use packaging.version instead.\n",
      "  _PYTHON_LOWER_3_8 = LooseVersion(_PYTHON_VERSION) < LooseVersion(\"3.8\")\n"
     ]
    },
    {
     "name": "stdout",
     "output_type": "stream",
     "text": [
      "2023-10-18 15:08:23,253\u001b[32m <INFO> Configuration: 👻 Custom attributes:\u001b[0m\n",
      "2023-10-18 15:08:23,254\u001b[32m <INFO> Configuration:    cache_dir=None\u001b[0m\n",
      "2023-10-18 15:08:23,254\u001b[32m <INFO> Configuration:    model_revision=main\u001b[0m\n",
      "2023-10-18 15:08:23,255\u001b[32m <INFO> Configuration:    use_fast_tokenizer=True\u001b[0m\n",
      "2023-10-18 15:08:23,256\u001b[32m <INFO> Configuration:    use_auth_token=False\u001b[0m\n",
      "2023-10-18 15:08:23,256\u001b[32m <INFO> Configuration:    preprocessing_num_workers=8\u001b[0m\n",
      "2023-10-18 15:08:23,257\u001b[32m <INFO> Configuration:    max_seq_length=2048\u001b[0m\n",
      "2023-10-18 15:08:23,257\u001b[32m <INFO> Configuration:    deepspeed_config=./ds_zero3_offload.hjson\u001b[0m\n",
      "2023-10-18 15:08:23,258\u001b[32m <INFO> Configuration:    generate_config_file=generate_config.json\u001b[0m\n",
      "2023-10-18 15:08:23,258\u001b[32m <INFO> Configuration:    re_gen_num=2\u001b[0m\n",
      "2023-10-18 15:08:23,259\u001b[32m <INFO> Configuration:    total_steps_num=470\u001b[0m\n",
      "2023-10-18 15:08:23,260\u001b[32m <INFO> Configuration:    steps_per_epoch=94\u001b[0m\n"
     ]
    },
    {
     "data": {
      "application/vnd.jupyter.widget-view+json": {
       "model_id": "8b9adc0c0c6249948107f76fbb8fcb33",
       "version_major": 2,
       "version_minor": 0
      },
      "text/plain": [
       "Loading checkpoint shards:   0%|          | 0/3 [00:00<?, ?it/s]"
      ]
     },
     "metadata": {},
     "output_type": "display_data"
    }
   ],
   "source": [
    "from transformers import AutoModelForCausalLM, AutoTokenizer\n",
    "from toolkit.nlp import NLPTrainingConfig\n",
    "path = './outputs/optimal_checkpoint_epoch2/'\n",
    "config = NLPTrainingConfig.load(path)\n",
    "\n",
    "model = AutoModelForCausalLM.from_pretrained(path, trust_remote_code=True, torch_dtype='auto')\n",
    "tokenizer = AutoTokenizer.from_pretrained(path, trust_remote_code=True)"
   ]
  },
  {
   "cell_type": "code",
   "execution_count": 3,
   "metadata": {},
   "outputs": [
    {
     "data": {
      "text/html": [
       "<div>\n",
       "<style scoped>\n",
       "    .dataframe tbody tr th:only-of-type {\n",
       "        vertical-align: middle;\n",
       "    }\n",
       "\n",
       "    .dataframe tbody tr th {\n",
       "        vertical-align: top;\n",
       "    }\n",
       "\n",
       "    .dataframe thead th {\n",
       "        text-align: right;\n",
       "    }\n",
       "</style>\n",
       "<table border=\"1\" class=\"dataframe\">\n",
       "  <thead>\n",
       "    <tr style=\"text-align: right;\">\n",
       "      <th></th>\n",
       "      <th>instruction</th>\n",
       "      <th>input</th>\n",
       "      <th>output</th>\n",
       "      <th>query</th>\n",
       "    </tr>\n",
       "  </thead>\n",
       "  <tbody>\n",
       "    <tr>\n",
       "      <th>0</th>\n",
       "      <td></td>\n",
       "      <td>徐怀钰参加综艺节目乘风后，引起了广泛关注。她曾经经历过家庭贫困和爷爷的心理问题，复出时效果并...</td>\n",
       "      <td>\\n徐怀钰近期参加综艺节目《乘风》复出，享受舞台找回自我。\\n徐怀钰的经历充满波折，家庭贫困...</td>\n",
       "      <td>None</td>\n",
       "    </tr>\n",
       "    <tr>\n",
       "      <th>1</th>\n",
       "      <td></td>\n",
       "      <td>南京同曦官宣引进法尔和布莱克尼 法尔和布莱克尼加入球队。随着南京同曦更换赞助商之后，球队在引...</td>\n",
       "      <td>同曦男篮宣布引进法尔和布莱克尼，给球队的阵容注入了新的活力。他们的加入有望帮助球队突破历史，...</td>\n",
       "      <td>媒体人谈同曦新双外：针对性很强</td>\n",
       "    </tr>\n",
       "  </tbody>\n",
       "</table>\n",
       "</div>"
      ],
      "text/plain": [
       "  instruction                                              input  \\\n",
       "0              徐怀钰参加综艺节目乘风后，引起了广泛关注。她曾经经历过家庭贫困和爷爷的心理问题，复出时效果并...   \n",
       "1              南京同曦官宣引进法尔和布莱克尼 法尔和布莱克尼加入球队。随着南京同曦更换赞助商之后，球队在引...   \n",
       "\n",
       "                                              output            query  \n",
       "0  \\n徐怀钰近期参加综艺节目《乘风》复出，享受舞台找回自我。\\n徐怀钰的经历充满波折，家庭贫困...             None  \n",
       "1  同曦男篮宣布引进法尔和布莱克尼，给球队的阵容注入了新的活力。他们的加入有望帮助球队突破历史，...  媒体人谈同曦新双外：针对性很强  "
      ]
     },
     "execution_count": 3,
     "metadata": {},
     "output_type": "execute_result"
    }
   ],
   "source": [
    "import pandas as pd\n",
    "df = pd.read_json(config.val_file_path, lines=True)\n",
    "df.head(2)"
   ]
  },
  {
   "cell_type": "code",
   "execution_count": 4,
   "metadata": {},
   "outputs": [],
   "source": [
    "# import pandas as pd\n",
    "# df = pd.read_json(\"data/hot_finetune_data/train/all.json\", lines=True)\n",
    "# df.head(2)"
   ]
  },
  {
   "cell_type": "code",
   "execution_count": 19,
   "metadata": {},
   "outputs": [
    {
     "name": "stdout",
     "output_type": "stream",
     "text": [
      "Below is an instruction that describes a task. Write a response that appropriately completes the request.\n",
      "\n",
      "### Instruction:\n",
      "给定文本：\n",
      "徐怀钰参加综艺节目乘风后，引起了广泛关注。她曾经经历过家庭贫困和爷爷的心理问题，复出时效果并不理想。然而，她在乘风中逐渐找回了自我，与秋瓷炫等人成为了好友，并和黄丽玲合作。虽然她不是王心凌，但乘风提供了一个机会，让她重新找回自我，比输赢更重要。徐怀钰的经历令人心疼。她从小家庭贫困，爷爷对她不好，留下了永远的心理创伤。这些年，她虽然一直在努力复出，但效果都不好。在参加乘风时，一公因路灯下的小姑娘被抨击而难过。好在Ella等人一起安慰她，她才挺过来。五公时，慢热的徐怀钰终于找到了感觉。秋瓷炫都为徐怀钰的变化感觉高兴，看得出她开始享受舞台了。这次居然主动和黄丽玲合作，要知道，这两位实力唱将合作，应该会很有很多火花。黄丽玲也很期待。徐怀钰不是王心凌，但她的复出并不仅仅是为了赢。对于粉丝来说，乘风只是一个综艺，能让徐怀钰找回自我，比什么输赢都重要。乘风让徐怀钰逐渐敞开心扉，与秋瓷炫等人成为了好友，也让她重新找到了表演的乐趣。她还和黄丽玲合作过，黄丽玲也很期待。有些人可能对徐怀钰的表现有所期待，毕竟她曾经是一位著名歌手，但输赢对她来说似乎已经不再重要了。\n",
      "生成300字左右视频文案。\n",
      "\n",
      "### Response: \n"
     ]
    }
   ],
   "source": [
    "from build_dataset import prompt_transfer\n",
    "import torch\n",
    "torch.cuda.set_device(0)\n",
    "\n",
    "model.cuda()\n",
    "for idx, row in df.iterrows():\n",
    "    inputs = prompt_transfer(row['input'], row['output'])\n",
    "    print(inputs)\n",
    "    batch = tokenizer(inputs, return_tensors='pt')\n",
    "    batch = {key: value.cuda() for key, value in batch.items()}\n",
    "    outputs = model.generate(**batch, **config.generate_kwargs)\n",
    "    texts = []\n",
    "    for idx, output in enumerate(outputs):\n",
    "        texts.append(tokenizer.decode(output[batch['input_ids'][idx].size(0):], skip_special_tokens=True))\n",
    "    # texts = tokenizer.batch_decode(outputs, skip_special_tokens=True)\n",
    "    break"
   ]
  },
  {
   "cell_type": "code",
   "execution_count": 22,
   "metadata": {},
   "outputs": [
    {
     "name": "stdout",
     "output_type": "stream",
     "text": [
      "\n",
      "徐怀钰参加综艺节目《乘风》引发关注，她曾是家庭贫困和爷爷心理问题的受害者，复出效果不佳。\n",
      "徐怀钰从小家庭贫困，爷爷对她不好，留下了永远的心理创伤。虽然她一直努力复出，但效果都不好。参加《乘风》时，一公因路灯下的小姑娘被抨击而难过，好在Ella等人安慰她，她才挺过来。五公时，慢热的徐怀钰终于找到了感觉，秋瓷炫都为她变化感到高兴，她开始享受舞台了。甚至主动与黄丽玲合作，要知道，这两位实力唱将合作，应该会很有很多火花。黄丽玲也很期待。\n",
      "徐怀钰虽然不是王心凌，但她的复出并不仅仅是为了赢。对于粉丝来说，《乘风》只是一个综艺，能让徐怀钰找回自我，比什么输赢都重要。\n"
     ]
    }
   ],
   "source": [
    "print(texts[0])"
   ]
  },
  {
   "cell_type": "code",
   "execution_count": 21,
   "metadata": {},
   "outputs": [
    {
     "name": "stdout",
     "output_type": "stream",
     "text": [
      "\n",
      "徐怀钰近期参加综艺节目《乘风》复出，享受舞台找回自我。\n",
      "徐怀钰的经历充满波折，家庭贫困、爷爷的心理问题，这些年一直在努力付出。虽然在《乘风》的舞台上复出效果不理想，但我们也看到了徐怀钰逐渐找回自我，这比比赛的输赢更重要。在《乘风》中，她与秋瓷炫、黄丽玲等人成为了好友，并携手合作。虽然她没有王心凌的机遇，但《乘风》也为她提供了一个重要的机会。她因一公被抨击而感到难过，好在有Ella等人的安慰与支持，让她挺过了难关。五公时，慢热的徐怀钰终于找到了感觉，秋瓷炫也为她的变化感到高兴，看出她开始享受舞台了。这次，徐怀钰主动和黄丽玲合作，无疑将带来许多火花。\n",
      "作为徐怀钰复出的舞台，《乘风》让徐怀钰找回终于找回了自我。让我们一起期待徐怀钰更多精彩表现！\n"
     ]
    }
   ],
   "source": [
    "print(row['output'])"
   ]
  },
  {
   "cell_type": "markdown",
   "metadata": {},
   "source": [
    "# test evaluator"
   ]
  },
  {
   "cell_type": "code",
   "execution_count": null,
   "metadata": {},
   "outputs": [],
   "source": [
    "from toolkit.training import Evaluator\n",
    "from load_data_fn import load_data_fn\n",
    "from toolkit.enums import Split\n",
    "from toolkit.nlp import TextDataset\n",
    "from toolkit.metric import rouge, bleu\n",
    "def eval_callback(all_labels, all_logits, mean_loss):\n",
    "    metric = rouge(all_logits, all_labels, \"zh\", (\"rouge1\", \"rouge2\", \"rougeL\"))\n",
    "    metric.update(bleu(all_logits, all_label, 'zh', (\"bleu1\", \"bleu2\", \"bleu3\", \"bleu4\")))\n",
    "    return metric, all_labels, all_logits\n",
    "\n",
    "config.infer_batch_size=8\n",
    "dataset = TextDataset.from_file(config.val_file_path, tokenizer, Split.VALIDATION, config, load_data_fn, use_cache=False, debug=True)\n",
    "evaluator = Evaluator('generate', Split.VALIDATION, config, model, dataset, eval_callback, tokenizer=tokenizer, extral_args_evaluation=None)\n",
    "metric, all_label, all_logits = evaluator.eval(1)"
   ]
  },
  {
   "cell_type": "code",
   "execution_count": null,
   "metadata": {},
   "outputs": [],
   "source": [
    "print(metric)\n",
    "for i in range(8):\n",
    "    print(\"-----label------\")\n",
    "    print(all_label[i])\n",
    "    print(\"-----pred------\")\n",
    "    print(all_logits[i])\n",
    "    print('########################################')"
   ]
  },
  {
   "cell_type": "markdown",
   "metadata": {},
   "source": [
    "# test extral evaluator"
   ]
  },
  {
   "cell_type": "code",
   "execution_count": null,
   "metadata": {},
   "outputs": [],
   "source": [
    "# import json\n",
    "\n",
    "# with open(\"generate_config.json\", \"r\", encoding='utf8') as f:\n",
    "#     generate_config = json.load(f)\n",
    "\n",
    "\n",
    "# with open(\"generate_config.json\", \"w\", encoding='utf8') as f:\n",
    "#     json.dump(generate_config, f, indent=2)\n",
    "\n",
    "# generate_config\n"
   ]
  },
  {
   "cell_type": "code",
   "execution_count": 4,
   "metadata": {},
   "outputs": [
    {
     "name": "stdout",
     "output_type": "stream",
     "text": [
      "2023-10-18 15:17:41,592 <DEBUG> TextDataset: ⏳ Loading VALIDATION dataset ...\u001b[0m\n",
      "2023-10-18 15:17:41,593\u001b[32m <INFO> TextDataset: Model max length: 4096\u001b[0m\n"
     ]
    },
    {
     "data": {
      "application/vnd.jupyter.widget-view+json": {
       "model_id": "ccb3e9418a99499db42f85dfd03a13bd",
       "version_major": 2,
       "version_minor": 0
      },
      "text/plain": [
       "Tokenize input texts:   0%|          | 0/4 [00:00<?, ?it/s]"
      ]
     },
     "metadata": {},
     "output_type": "display_data"
    },
    {
     "name": "stdout",
     "output_type": "stream",
     "text": [
      "2023-10-18 15:17:41,640 <DEBUG> TextDataset: ⌛ Loading VALIDATION data takes 0.05 sec.\u001b[0m\n",
      "2023-10-18 15:17:41,640\u001b[32m <INFO> TextDataset: Total data: 4\u001b[0m\n",
      "2023-10-18 15:17:41,641\u001b[32m <INFO> TextDataset: Max length of input: 795\u001b[0m\n",
      "2023-10-18 15:17:41,641\u001b[32m <INFO> TextDataset: Max length of label: -1\u001b[0m\n"
     ]
    },
    {
     "data": {
      "application/vnd.jupyter.widget-view+json": {
       "model_id": "2cfa4536aabc4862900ad4e5b56c25d5",
       "version_major": 2,
       "version_minor": 0
      },
      "text/plain": [
       "VALIDATION:   0%|          | 0/2 [00:00<?, ?batch/s]"
      ]
     },
     "metadata": {},
     "output_type": "display_data"
    },
    {
     "data": {
      "application/vnd.jupyter.widget-view+json": {
       "model_id": "9c1252ea890042c89d1d419cca2a2e32",
       "version_major": 2,
       "version_minor": 0
      },
      "text/plain": [
       "VALIDATION:   0%|          | 0/2 [00:00<?, ?batch/s]"
      ]
     },
     "metadata": {},
     "output_type": "display_data"
    },
    {
     "data": {
      "application/vnd.jupyter.widget-view+json": {
       "model_id": "750ab9cce48e43e490a4edaa2d110f6a",
       "version_major": 2,
       "version_minor": 0
      },
      "text/plain": [
       "  0%|          | 0/4 [00:00<?, ?it/s]"
      ]
     },
     "metadata": {},
     "output_type": "display_data"
    }
   ],
   "source": [
    "from extral_evaluator import Extral_Evaluator, extra_calculate_metric_callback\n",
    "from load_data_fn import load_data_fn\n",
    "from toolkit.enums import Split\n",
    "from toolkit.nlp import TextDataset\n",
    "from toolkit.metric import self_bleu\n",
    "def extra_calculate_metric_callback(all_labels, all_logits):\n",
    "    return self_bleu(all_logits, 'zh', (\"bleu1\", \"bleu2\", \"bleu3\", \"bleu4\"), smoothing_level=1), all_labels, all_logits\n",
    "\n",
    "# config.generate_config_file=\"generate_config.json\"\n",
    "# config.re_gen_num=2\n",
    "config.infer_batch_size=8\n",
    "\n",
    "\n",
    "dataset = TextDataset.from_file(config.val_file_path, tokenizer, Split.VALIDATION, config, load_data_fn, use_cache=False, debug=True)\n",
    "evaluator = Extral_Evaluator('generate', Split.VALIDATION, config, model, dataset, extra_calculate_metric_callback, tokenizer=tokenizer)\n",
    "metric, all_label, all_logits  = evaluator.eval(0)"
   ]
  },
  {
   "cell_type": "code",
   "execution_count": 7,
   "metadata": {},
   "outputs": [
    {
     "name": "stdout",
     "output_type": "stream",
     "text": [
      "{'self-bleu1': 0.40526503186515067, 'self-bleu2': 0.5724364766829015, 'self-bleu3': 0.6763363723189562, 'self-bleu4': 0.7455375995634501}\n",
      "-----label------\n",
      "('\\n'\n",
      " '徐怀钰近期参加综艺节目《乘风》复出，享受舞台找回自我。\\n'\n",
      " '徐怀钰的经历充满波折，家庭贫困、爷爷的心理问题，这些年一直在努力付出。虽然在《乘风》的舞台上复出效果不理想，但我们也看到了徐怀钰逐渐找回自我，这比比赛的输赢更重要。在《乘风》中，她与秋瓷炫、黄丽玲等人成为了好友，并携手合作。虽然她没有王心凌的机遇，但《乘风》也为她提供了一个重要的机会。她因一公被抨击而感到难过，好在有Ella等人的安慰与支持，让她挺过了难关。五公时，慢热的徐怀钰终于找到了感觉，秋瓷炫也为她的变化感到高兴，看出她开始享受舞台了。这次，徐怀钰主动和黄丽玲合作，无疑将带来许多火花。\\n'\n",
      " '作为徐怀钰复出的舞台，《乘风》让徐怀钰找回终于找回了自我。让我们一起期待徐怀钰更多精彩表现！')\n",
      "-----pred------\n",
      "在《乘风》后，徐怀钰的家庭贫困和爷爷的心理问题引发广泛关注。但是，她在节目中却逐渐找回了自我，与秋瓷炫等人成为了好友，并和黄丽玲合作了一首歌曲。\n",
      "尽管徐怀钰并非王心凌，但在乘风中她展现出了自我找回的意义，获得了重拾表演的乐趣。她的经历让人心疼，从小家庭贫困、爷爷对她不好，导致她一直有着心理创伤。尽管努力复出，但效果并不理想。直到参加乘风时，因为路灯下的小姑娘被抨击而难过，幸亏Ella等人的支持才让她挺过去。第五届公演中，徐怀钰终于找到了感觉，展现出了自己的特色。秋瓷炫对徐怀钰的变化感到欣喜，认为她开始享受舞台了。此次与黄丽玲合作更是让人期待，两位实力唱将的合作必将产生更多火花。\n",
      "徐怀钰的复出也许对某些人来说是意料之中，但她的成功却超乎所有人的预期。无论如何，对于粉丝来说，乘风只是一个综艺，能帮徐怀钰找回自我，比什么输赢都重要。让我们一起期待徐怀钰在未来更多的表现吧！你是否赞同徐怀钰的观点？欢迎留言评论分享你的想法！\n",
      "--------------------------\n",
      "徐怀钰参加综艺节目《乘风》后，引起广泛关注。她曾经历了家庭贫困和爷爷的心理问题，复出时效果并不理想。但在乘风中，她逐渐找回了自我，与秋瓷炫等人成为了好友，并和黄丽玲合作。\n",
      "尽管她并非王心凌，但《乘风》提供了一个机会，让她重新找回自我，胜负已不再重要。徐怀钰的经历令人心疼。她从小家庭贫困，爷爷对她不够好，留下了永远的心理创伤。这些年来，她一直努力复出，但效果不尽如人意。在参加《乘风》时，她因路灯下的小姑娘被抨击而难过，幸亏Ella等人的安慰，她才能挺过去。第五轮时，徐怀钰终于找到了感觉，秋瓷炫为此感到开心。此次与黄丽玲合作，两位实力唱将的合作必将产生更多精彩火花。黄丽玲也对此期待不已。徐怀钰或许不再是王心凌，但她的复出并不仅仅追求赢。对粉丝而言，《乘风》只是一个综艺，重要的是让徐怀钰找回自我，享受舞台的乐趣。\n",
      "徐怀钰的进步让人欣慰，但仍有人对她的表现有所期待。无论如何，输赢对她来说已不再那么重要。欢迎大家留言分享你对徐怀钰的看法和支持！\n",
      "--------------------------\n",
      "########################################\n",
      "-----label------\n",
      "('同曦男篮宣布引进法尔和布莱克尼，给球队的阵容注入了新的活力。他们的加入有望帮助球队突破历史，冲击季后赛的门票。\\n'\n",
      " '同曦男篮一直是CBA中唯二未进入过季后赛的球队，但这次他们给人们带来了惊喜。新援布莱克尼和法尔都拥有丰富的CBA经验，他们的到来使得球队的实力有了明显提升。布莱克尼的身材和得分能力能够补充球队的不足，而法尔的护框和篮板球能力将为球队提供更稳定的底蕴。随着新援的加入，同曦男篮的目标更加明确，他们有望打破连年不进季后赛的尴尬。\\n'\n",
      " '同曦男篮的引援举措引发了球迷们的热议，他们对球队有所期待。你认为这次引进的法尔和布莱克尼能否帮助同曦男篮突破历史，冲进季后赛呢？欢迎在评论区留言，与我们分享你的观点和想法。')\n",
      "-----pred------\n",
      "南京同曦近期官宣引进两大顶级外援，成为焦点话题。\n",
      "据悉，法尔和布莱克尼已正式加盟球队，为南京同曦的阵容注入了强大的内外线实力。两位球员的加入将大大提升南京同曦的篮板球能力和防守实力。法尔作为一名经验丰富的内线选手，具备出色的护框和篮板球技巧，上赛季在新疆男篮表现出众。而布莱克尼则是一名全能得分后卫，上赛季在江苏男篮的发挥也十分出色。他们的到来将为南京同曦的外线阵容注入更多的火力点，让球队更具得分能力。值得一提的是，南京同曦此次引援花费并不高，这对外援组合的薪金与去年皮特森和阿丘尔的组合相似，但能力有所升级，可见新管理层的资源利用达到了最佳状态。\n",
      "南京同曦的引援举措备受关注，大家对他们的到来充满期待。法尔和布莱克尼的加人将给南京同曦带来质的突破，相信球队在新赛季的表现将有所不同。你认为这样的外援选择是否明智？快来发表你的看法吧！\n",
      "--------------------------\n",
      "南京同曦官宣引进法尔和布莱克尼！两大超级外援加入，助力球队剑指季后赛。\n",
      "法尔和布莱克尼的加入，为南京同曦换上了新的大手笔。法尔上赛季在新疆男篮表现出色，展现出极强的护框和篮板球能力;布莱克尼则是在江苏男篮打出了高效的表现，成为联盟得分手。这两个人的选角对弥补同曦阵容的不足具有针对性和强化性。此前，由于赞助商的变化，同曦男篮的外援政策发生了调整，但他们依然保持豪气，继续加大力度引援。这次布莱克尼和法尔的引入，不仅是为了提升球队实力，更是为了改变同曦一直未进入季后赛的历史窘境。值得一提的是，这两名外援都有着中国篮球联赛的履历，这使得他们在融入球队和适应环境方面更具优势。\n",
      "南京同曦用两大超级外援的引援，为自己敲开了季后赛的大门。他们的到来将为球队注入强大的战斗力和进取心。但是，是否仅凭外援就能带领球队逆袭呢？大家怎么看？快来分享你的想法吧！\n",
      "--------------------------\n",
      "########################################\n",
      "-----label------\n",
      "('6月7日，中俄联合空中战略巡航第二阶段任务落幕。在这次空中巡航中，中国空军出动的并非日本和韩国媒体所说的轰-6K轰炸机，而是轰-6J轰炸机。本次巡航是双方在日本海、东海相关空域的第6次联合空中战略巡航。\\n'\n",
      " '中俄两国空军举行联合空中战略巡演，证明两国的军事互信非常高，并且未来还将继续举行类似巡演。这次巡演不针对任何第三方，但是事件背后的动机却值得深思。有中国网友认为，这是针对美国和日本背后的霸权。此外，日本方面认为，本次巡航的参与军机数字异常。不过，俄罗斯国防部发声明称双方严格遵守国际法有关规定，未侵犯他国领空。\\n'\n",
      " '这次联合空中战略巡演，让人对中俄两国的军事合作和互信赞叹不已。但是背后的政治动机值得玩味。你认为中俄联合空中战略巡航，到底是为了表达友好，还是有其它的政治意图呢？欢迎在评论区留言分享你的看法。')\n",
      "-----pred------\n",
      "中俄第六度联合空中战略巡航引发关注！据有关报道显示，该次联合巡演在日本海及周边空域展开，涉及多达22架军机。那么这次联合巡演到底是为了什么呢？\n",
      "共有两种可能性。一种可能是，中俄为了打击美国和朝鲜的霸权而组织这次联合巡演。这两位国家都是军事强国，拥有强大的空中作战能力，对于区域内其他国家来说具有压倒性的优势。而联合巡演可以让他们共同作战，提高各自的力量，形成一个不可忽视的军事集团。另一种可能性则是，这次联合巡演只是中俄两国为了加强双边合作关系的一种象征。虽然不能排除前者的可能性，但目前看来，后者更有可能一些。毕竟，联合巡演的目的无非就是为了让彼此之间更紧密，更好地配合默契。此外，联合巡演的时间选择也非常巧妙，正好是在美朝战争之后，局势稍微缓和的时候举行，这也是为什么这次联合巡演没有引起太多争议的原因之一。\n",
      "无论是哪种猜测的解释，都足以让人们思考和探讨很长时间。你对这次联合旅游有什么看法呢？请留言分享你的想法并且点赞我们的视频！\n",
      "--------------------------\n",
      "中俄第六次联合空中战略巡航引发强烈反响！ 6月6日，中俄两架熊轰炸机在太平洋西部空域完成了第二次联合空中战略巡航任务。该任务是在日本海、东海相关空域进行的。此次共有22架军机参与联合巡航，引起了世界各地的高度关注。 \n",
      "从有关报道中可以得知，在整个联合巡航过程中， 中俄两方严格遵守国际法规定，未侵犯任何国家的领空。据有关专家分析，这次联合巡航实际上是对付美国和日本的霸权。值得一提的是，联合巡航结束后，双方出动的所有军机都回到了各自的驻扎机场。对此，不同声音纷纷涌现。一些人认为这是中俄在向美国和日本展示强大的军事实力，同时也是对潜在对手发出的威胁信号。而另一些人则认为，这是中俄之间军事互信的表现，同时也预示着两国将继续加强联合军事活动。此外，联合巡航活动的频率也在逐渐增加，这说明双方之间的默契配合和作战协同能力正在进一步提升。  \n",
      "在这个紧张的世界局势下，中俄联合巡航的原因可能有多种，事实上，也存在不同的看法。比如，有分析认为，这次巡航主要是为了打击美国和日本的霸权;还有人则认为，这可能是中俄在向其他国家暗示自己即将发动军事进攻。你怎么看待这次的中俄联合巡航呢？欢迎留言评论。\n",
      "--------------------------\n",
      "########################################\n",
      "-----label------\n",
      "('王鹤棣在电视剧苍兰诀中的表现备受追捧，他的一句庆祝一周年的微博引发了热议。\\n'\n",
      " '电视剧苍兰诀以其精湛的演技和深入人心的剧情成为观众喜爱的作品。王鹤棣在剧中饰演东方青苍的角色，将其诠释得淋漓尽致，展现出出色的演技和才华。8月7日是该剧播出一周年的日子，出品人王一栩和角色号也纷纷发文庆祝，让人们感叹时间的飞逝。其中，王鹤棣在微博中神秘地说道：“本座回来了”，这句话立即引发了粉丝们的热烈讨论。这句话暗示着他即将在未来的作品中再度亮相，给观众们带来全新的表演。网友们纷纷猜测他下一部作品的题材和角色将会是什么，期待他将带给观众们更多惊喜和感动。\\n'\n",
      " '王鹤棣在苍兰诀中的出色表现和他回归的微博让人们对他在未来的发展充满期待。同时，电视剧苍兰诀的成功也离不开出品人王一栩和团队的辛勤付出。你对王鹤棣的表演和未来作品有什么期待和想法呢？快来评论分享吧！')\n",
      "-----pred------\n",
      "电视剧《苍兰诀》自去年8月7日开播以来，凭借着精湛的演技和深入人心的剧情赢得了很多观众的喜爱和追捧。\n",
      "王一栩，该剧的出品人，也在八月七日发布了一篇微博，与角色号王鹤棣一起庆祝剧集播出一周年的日子。王鹤棣在微博中用一幅图片展示了自己在剧中的表现，并表示本座回来了，这引起了网友们的热议。王鹤棣是一位优秀的演员，他在剧中将角色东方青苍诠释得淋漓尽致，展现出了他的演技和才华。随着剧集的成功，也离不开王一栩的精心策划和团队的辛勤付出。他们是相互配合的默契搭档，为观众呈现出了一部令人难忘的电视剧作品。\n",
      "时间飞逝，《苍兰诀》播出已满一年。这一周年引起了广大观众的热心关注，大家对角色王鹤棣和电视剧的未来充满期待。你是否认为王一栩和王鹤棣能够在演艺路上取得更多的成功？快来留言分享你的看法！\n",
      "--------------------------\n",
      "王鹤棣微博晒照庆苍兰诀开播一年！\n",
      "近日，《苍兰诀》主演王鹤棣在微博晒出一张照片，引来网友们的无数关注和赞赏。这是王鹤棣为了庆祝《苍兰诀》开播一周年的特别照片，照片中，他身穿红色假面具和黑色披风，威风凛凛地站在一片草地上，仿佛置身于武侠世界之中。王鹤棣的粉丝们纷纷表示，这张照片非常符合他的气质和角色形象，令人印象深刻。许多网友纷纷猜测这照片是否暗示着王鹤棣即将参与新的武侠作品的拍摄，亦或是有其他方面的计划即将展开。然而，也有人对王鹤棣的拍照技术提出质疑。虽然光线较为暗淡，但仍可以看到王鹤棣脸上的痘痘和黑眼圈，这引发了一些讨论他的护肤和化妆技巧的话题。\n",
      "你认为王鹤棣这张庆祝开播一周年的照片如何？快来发表你的评论吧！\n",
      "--------------------------\n",
      "########################################\n"
     ]
    }
   ],
   "source": [
    "from pprint import pp\n",
    "print(metric)\n",
    "for i in range(4):\n",
    "    print(\"-----label------\")\n",
    "    pp(all_label[i])\n",
    "    print(\"-----pred------\")\n",
    "    for text in all_logits[i]:\n",
    "        print(text)\n",
    "        print('--------------------------')\n",
    "    print('########################################')"
   ]
  },
  {
   "cell_type": "code",
   "execution_count": null,
   "metadata": {},
   "outputs": [],
   "source": []
  }
 ],
 "metadata": {
  "kernelspec": {
   "display_name": "Python 3",
   "language": "python",
   "name": "python3"
  },
  "language_info": {
   "codemirror_mode": {
    "name": "ipython",
    "version": 3
   },
   "file_extension": ".py",
   "mimetype": "text/x-python",
   "name": "python",
   "nbconvert_exporter": "python",
   "pygments_lexer": "ipython3",
   "version": "3.11.2"
  },
  "orig_nbformat": 4
 },
 "nbformat": 4,
 "nbformat_minor": 2
}
